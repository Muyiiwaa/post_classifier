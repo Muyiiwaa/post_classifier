{
 "cells": [
  {
   "cell_type": "code",
   "execution_count": 45,
   "metadata": {},
   "outputs": [],
   "source": [
    "import torch\n",
    "from transformers import AutoTokenizer, AutoModelForSequenceClassification, TrainingArguments, Trainer,AutoModelForMaskedLM,AutoConfig\n",
    "import numpy\n",
    "from sklearn.metrics import classification_report, confusion_matrix\n",
    "import seaborn as sns\n",
    "import matplotlib.pyplot as plt\n",
    "from datasets import load_dataset\n",
    "from torch.utils.data import random_split,Dataset"
   ]
  },
  {
   "cell_type": "code",
   "execution_count": 46,
   "metadata": {},
   "outputs": [],
   "source": [
    "data = load_dataset(\"saheedniyi/naijaweb\")"
   ]
  },
  {
   "cell_type": "code",
   "execution_count": 47,
   "metadata": {},
   "outputs": [
    {
     "data": {
      "text/plain": [
       "{'text': ['Governor Samuel Ortom of Benue State\\nBy Peter Duru\\nGovernor Samuel Ortom of Benue state has commended President Muhammadu Buhari for his directive to security agents to shoot anyone illegally bearing AK47 rifle in the country.\\nThe Governor who gave the commendation Thursday in Makurdi said the President’s order would reduce the level of criminality, banditry and militia herders’ attacks on Benue communities as well as in other parts of the country.\\nAccording to him, “the order would also make the communities safer for displaced farmers to return to their ancestral homes.\\n“I wish to commend Mr. President for his recent order against those bearing AK47 rifles. This I am sure will reduce the high rate of criminality, banditary and militia herdsmen attacks on our farming communities,” the Governor said.\\nHe noted that President Buhari had done the right thing by listening to the calls he and other concerned Nigerians made on the need for the Federal Government to act faster and decisively to save the country from degenerating to a state of anarchy.\\n“I don’t only criticise, I also commend where necessary. And I want to say shame on those sycophants who were bashing me for writing to Mr. President because he has finally heeded my advice,” he added.\\nGovernor Ortom said Nigeria belonged to all its citizens and only justice and equity anchored on the rule of law could guarantee the unity and stability of the country.\\nComments expressed here do not reflect the opinions of Vanguard newspapers or any employee thereof.',\n",
       "  \"NewsHelm.com offers a unique blend of modernity and trustworthiness. Its short and catchy name instantly conveys the idea of a news or media platform. This domain name is ideal for businesses in the news industry, such as broadcasting, publishing, or journalism. With NewsHelm.com, you'll establish a strong online presence and build trust with your audience.\\nNewsHelm.com's marketability extends beyond the digital realm. It can also be used for branding offline materials like business cards, brochures, or signage. Additionally, its easy-to-remember nature makes it perfect for radio or television ads, ensuring that your brand sticks in listeners' or viewers' minds.\\nNewsHelm.com can significantly enhance your online visibility and reach. It can improve your search engine rankings by attracting more organic traffic. When people search for news-related terms, your website will be more likely to appear in the results due to its relevant and memorable domain name.\\nA domain like NewsHelm.com can contribute to the establishment of a strong brand identity. By using a domain name that resonates with your industry and audience, you'll create a sense of trust and reliability. This can help you build customer loyalty and attract new potential customers, ultimately leading to increased sales and revenue.\\nBuy NewsHelm.com Now!\\nAt DomainMarket.com our goal is to make the domain process as painless and transparent as possible for you. Once your funds settle and we have verified the transaction (typically between 3 to 7 business days), we will be contacting you via email with the transfer instructions to take control of NewsHelm.com.\\nTo acquire the domain, you incur a one-time expense. Subsequently, upon the domain’s transfer to your ownership, you must annually renew it through your domain registrar. These renewal charges varies depending to your registrar and remitted directly to the registrar.\\nWe accept various payment methods, including major credit cards, PayPal, and wire transfers. Our payment processing system ensures a secure and hassle-free transaction experience.\",\n",
       "  'BY LEVINUS NWABUGHIOGU & EMMAN OVUAKPORIE\\nABUJA–It was a shocking revelation, yesterday, at the House of Representatives Ad-hoc Committee probing alleged illegal land allocations and racketeering in the Federal Capital Territory, FCT, Abuja as the Chairman of the Independent Corrupt Practices and other related Offences Commission, ICPC, Mr Ekpo Nta testified that his agency had seized a total of 61 houses, 45 plots of land at different locations within the FCT and a duplex from an officer of the Nigeria Security and Civil Defence Corps, NSCDC in the course of on-going investigations into land scams in FCT.\\nNta also revealed that several bank accounts which the official used for the illegal land deals had been traced and frozen by the agency.\\nThe ICPC boss, however, disclosed that the 61 houses seized from the Civil Defence Corps topshot was made up of 40 three-bedroom flats, 20 two-bedroom flats and a duplex.\\nHe said official letters had been written to the appropriate government land authorities on the status of the seized property and publication made in national dailies for the public to know so as not to fall victims of illegal deals again.\\nAccording to him, the agency swung into action following a tip-off from the Commandant-General of the NSCDC, Dr Ade Abolurin who personally visited him on May 15.\\nHe said that Abolurin raised alarm that some officials of the corps were believed to be involved in illegal land deals using the agency as back-up. He also said they operated under a non-existent housing estate scheme in Abuja and Nasarawa State.\\nNta further said: ”Impressed by the action of the Commandant-General of the Corps by reporting his own officials for alleged wrong-doings and demanding an independent investigation while other heads of agencies or organisations will be covering it up if it were to be in their organisations.\\nI commenced an immediate investigation by directing the Special Squad I set up on land matters to swing into action and the team even started with some officers who came with the C-G.\\n“We made findings, we also made efforts to get additional information from other government agencies and banks which assisted us immensely in the course of our investigations. In the course of the investigation, we established that six different companies were used in the scam, and the bank accounts of certain officers and the companies used were frozen while we seized several property including 61 houses, 45 plots of land and a duplex traced to some of the officers.\\nInterestingly, the 61 houses are made up of 40 units of three bedroom flats, 20 units of two bedroom flats and a duplex were seized from a single officer”.\\nHe further stated that the company through which the NSCDC officials carried out the illegal deals were not among the six other companies that were investigated, even as he promised to commence another round of investigation on it.\\nWhile stating that all the interrogated officers had been released on administrative bail except an official who was on the run, Nta said that investigation had revealed that the affected officers used the NSCDC’s Co-operative Society to swindle members of the public who thought it was a genuine transaction especially when it involved the name of the organization, the transactions taking place within the premises of the FCT Command of the Corps located at Gudu district and the officers wearing NSCDC uniforms during such illegal transactions.\\nAsked if there would be any compensation for the 186 victims of the scam since the property of the perpetrators had been seized, Nta said: “That is beyond our power, the final decision rests on the court. Ours is to arrest, investigate and prosecute, but as we speak, we have established abuse of office against some of the officers investigated, it is the court that will now decide their fate, but the law recognizes the interest of procurer”.\\nElated by the testimony, the Committee chaired by Hon Bimbo Daramola expressed gratitude to the ICPC boss, saying the revelation will help put an end to land scams in the capital city.\\nComments expressed here do not reflect the opinions of Vanguard newspapers or any employee thereof.'],\n",
       " 'link': ['https://www.vanguardngr.com/2021/03/ortom-commends-buhari-on-shoot-at-sight-order-on-ak47-bearing-criminals/amp/',\n",
       "  'http://www.newshelm.com/2016/08/photos-president-buhari-femi-adesina.htmlcc',\n",
       "  'http://www.vanguardngr.com/2013/11/icpc-recovers-61-houses-nscdc-officer/'],\n",
       " 'token_count': [332, 424, 875],\n",
       " 'section': ['Politics', 'Politics', 'Politics'],\n",
       " 'int_score': [1, 1, 1],\n",
       " 'language': ['en', 'en', 'en'],\n",
       " 'language_probability': [0.9999465942382812,\n",
       "  0.9999561309814453,\n",
       "  0.9999790191650391]}"
      ]
     },
     "execution_count": 47,
     "metadata": {},
     "output_type": "execute_result"
    }
   ],
   "source": [
    "data['train'][0:3]"
   ]
  },
  {
   "cell_type": "code",
   "execution_count": 48,
   "metadata": {},
   "outputs": [
    {
     "data": {
      "text/html": [
       "<div>\n",
       "<style scoped>\n",
       "    .dataframe tbody tr th:only-of-type {\n",
       "        vertical-align: middle;\n",
       "    }\n",
       "\n",
       "    .dataframe tbody tr th {\n",
       "        vertical-align: top;\n",
       "    }\n",
       "\n",
       "    .dataframe thead th {\n",
       "        text-align: right;\n",
       "    }\n",
       "</style>\n",
       "<table border=\"1\" class=\"dataframe\">\n",
       "  <thead>\n",
       "    <tr style=\"text-align: right;\">\n",
       "      <th></th>\n",
       "      <th>text</th>\n",
       "      <th>section</th>\n",
       "    </tr>\n",
       "  </thead>\n",
       "  <tbody>\n",
       "    <tr>\n",
       "      <th>0</th>\n",
       "      <td>Governor Samuel Ortom of Benue State\\nBy Peter...</td>\n",
       "      <td>12</td>\n",
       "    </tr>\n",
       "    <tr>\n",
       "      <th>1</th>\n",
       "      <td>NewsHelm.com offers a unique blend of modernit...</td>\n",
       "      <td>12</td>\n",
       "    </tr>\n",
       "    <tr>\n",
       "      <th>2</th>\n",
       "      <td>BY LEVINUS NWABUGHIOGU &amp; EMMAN OVUAKPORIE\\nABU...</td>\n",
       "      <td>12</td>\n",
       "    </tr>\n",
       "    <tr>\n",
       "      <th>3</th>\n",
       "      <td>Eyitayo Jegede and Jimoh Ibrahim\\nBy Ikechukwu...</td>\n",
       "      <td>12</td>\n",
       "    </tr>\n",
       "    <tr>\n",
       "      <th>4</th>\n",
       "      <td>Mrs. Helen Mark, wife of Senator David Mark, p...</td>\n",
       "      <td>12</td>\n",
       "    </tr>\n",
       "  </tbody>\n",
       "</table>\n",
       "</div>"
      ],
      "text/plain": [
       "                                                text  section\n",
       "0  Governor Samuel Ortom of Benue State\\nBy Peter...       12\n",
       "1  NewsHelm.com offers a unique blend of modernit...       12\n",
       "2  BY LEVINUS NWABUGHIOGU & EMMAN OVUAKPORIE\\nABU...       12\n",
       "3  Eyitayo Jegede and Jimoh Ibrahim\\nBy Ikechukwu...       12\n",
       "4  Mrs. Helen Mark, wife of Senator David Mark, p...       12"
      ]
     },
     "execution_count": 48,
     "metadata": {},
     "output_type": "execute_result"
    }
   ],
   "source": [
    "from sklearn.preprocessing import LabelEncoder\n",
    "\n",
    "data = data['train'].to_pandas()\n",
    "data = data[['text','section']].copy()\n",
    "\n",
    "encoder = LabelEncoder()\n",
    "data['section'] = encoder.fit_transform(data['section'])\n",
    "data.head()\n"
   ]
  },
  {
   "cell_type": "code",
   "execution_count": 49,
   "metadata": {},
   "outputs": [],
   "source": [
    "data.rename(columns = {\n",
    "    'section':'label'\n",
    "}, inplace = True)"
   ]
  },
  {
   "cell_type": "code",
   "execution_count": 50,
   "metadata": {},
   "outputs": [
    {
     "data": {
      "text/plain": [
       "label\n",
       "12    131126\n",
       "19     26643\n",
       "16     20739\n",
       "0      15478\n",
       "4      12084\n",
       "14     11755\n",
       "8      11637\n",
       "15      6131\n",
       "18      5857\n",
       "11      5230\n",
       "5       4023\n",
       "2       3107\n",
       "1       2800\n",
       "6       2469\n",
       "13      2263\n",
       "10      2221\n",
       "17      2191\n",
       "3       1968\n",
       "7       1607\n",
       "9        808\n",
       "Name: count, dtype: int64"
      ]
     },
     "execution_count": 50,
     "metadata": {},
     "output_type": "execute_result"
    }
   ],
   "source": [
    "data['label'].value_counts()"
   ]
  },
  {
   "cell_type": "code",
   "execution_count": 51,
   "metadata": {},
   "outputs": [],
   "source": [
    "data = data.groupby('label').sample(n=808, random_state=23)"
   ]
  },
  {
   "cell_type": "code",
   "execution_count": 52,
   "metadata": {},
   "outputs": [],
   "source": [
    "data.reset_index(drop = True, inplace=True)"
   ]
  },
  {
   "cell_type": "code",
   "execution_count": 53,
   "metadata": {},
   "outputs": [
    {
     "data": {
      "text/html": [
       "<div>\n",
       "<style scoped>\n",
       "    .dataframe tbody tr th:only-of-type {\n",
       "        vertical-align: middle;\n",
       "    }\n",
       "\n",
       "    .dataframe tbody tr th {\n",
       "        vertical-align: top;\n",
       "    }\n",
       "\n",
       "    .dataframe thead th {\n",
       "        text-align: right;\n",
       "    }\n",
       "</style>\n",
       "<table border=\"1\" class=\"dataframe\">\n",
       "  <thead>\n",
       "    <tr style=\"text-align: right;\">\n",
       "      <th></th>\n",
       "      <th>text</th>\n",
       "      <th>label</th>\n",
       "    </tr>\n",
       "  </thead>\n",
       "  <tbody>\n",
       "    <tr>\n",
       "      <th>0</th>\n",
       "      <td>Dangote Oil Refining Company Limited has said ...</td>\n",
       "      <td>0</td>\n",
       "    </tr>\n",
       "    <tr>\n",
       "      <th>1</th>\n",
       "      <td>Amid on-going economic uncertainty, managers a...</td>\n",
       "      <td>0</td>\n",
       "    </tr>\n",
       "    <tr>\n",
       "      <th>2</th>\n",
       "      <td>Marketers still struggle to decide whether con...</td>\n",
       "      <td>0</td>\n",
       "    </tr>\n",
       "    <tr>\n",
       "      <th>3</th>\n",
       "      <td>Oil prices have held onto the gains from the l...</td>\n",
       "      <td>0</td>\n",
       "    </tr>\n",
       "    <tr>\n",
       "      <th>4</th>\n",
       "      <td>Reliable sources within the financial services...</td>\n",
       "      <td>0</td>\n",
       "    </tr>\n",
       "  </tbody>\n",
       "</table>\n",
       "</div>"
      ],
      "text/plain": [
       "                                                text  label\n",
       "0  Dangote Oil Refining Company Limited has said ...      0\n",
       "1  Amid on-going economic uncertainty, managers a...      0\n",
       "2  Marketers still struggle to decide whether con...      0\n",
       "3  Oil prices have held onto the gains from the l...      0\n",
       "4  Reliable sources within the financial services...      0"
      ]
     },
     "execution_count": 53,
     "metadata": {},
     "output_type": "execute_result"
    }
   ],
   "source": [
    "data.head()"
   ]
  },
  {
   "cell_type": "code",
   "execution_count": 54,
   "metadata": {},
   "outputs": [
    {
     "data": {
      "text/plain": [
       "label\n",
       "0     808\n",
       "1     808\n",
       "18    808\n",
       "17    808\n",
       "16    808\n",
       "15    808\n",
       "14    808\n",
       "13    808\n",
       "12    808\n",
       "11    808\n",
       "10    808\n",
       "9     808\n",
       "8     808\n",
       "7     808\n",
       "6     808\n",
       "5     808\n",
       "4     808\n",
       "3     808\n",
       "2     808\n",
       "19    808\n",
       "Name: count, dtype: int64"
      ]
     },
     "execution_count": 54,
     "metadata": {},
     "output_type": "execute_result"
    }
   ],
   "source": [
    "data['label'].value_counts()"
   ]
  },
  {
   "cell_type": "code",
   "execution_count": 55,
   "metadata": {},
   "outputs": [],
   "source": [
    "from sklearn.model_selection import train_test_split\n",
    "\n",
    "train_data, test_data = train_test_split(data, test_size = 0.25, stratify = data['label'])"
   ]
  },
  {
   "cell_type": "code",
   "execution_count": 56,
   "metadata": {},
   "outputs": [
    {
     "data": {
      "application/vnd.jupyter.widget-view+json": {
       "model_id": "63834af481904753946c22c63fc39082",
       "version_major": 2,
       "version_minor": 0
      },
      "text/plain": [
       "tokenizer_config.json:   0%|          | 0.00/49.0 [00:00<?, ?B/s]"
      ]
     },
     "metadata": {},
     "output_type": "display_data"
    },
    {
     "data": {
      "application/vnd.jupyter.widget-view+json": {
       "model_id": "5d129be3aef4417dbd8c0206af93ba2d",
       "version_major": 2,
       "version_minor": 0
      },
      "text/plain": [
       "config.json:   0%|          | 0.00/570 [00:00<?, ?B/s]"
      ]
     },
     "metadata": {},
     "output_type": "display_data"
    },
    {
     "data": {
      "application/vnd.jupyter.widget-view+json": {
       "model_id": "6407e1330aba4c4199b287bc242be54f",
       "version_major": 2,
       "version_minor": 0
      },
      "text/plain": [
       "vocab.txt:   0%|          | 0.00/213k [00:00<?, ?B/s]"
      ]
     },
     "metadata": {},
     "output_type": "display_data"
    },
    {
     "data": {
      "application/vnd.jupyter.widget-view+json": {
       "model_id": "180bdbcb22834843af99064f90746c61",
       "version_major": 2,
       "version_minor": 0
      },
      "text/plain": [
       "tokenizer.json:   0%|          | 0.00/436k [00:00<?, ?B/s]"
      ]
     },
     "metadata": {},
     "output_type": "display_data"
    },
    {
     "data": {
      "application/vnd.jupyter.widget-view+json": {
       "model_id": "b6b2b0737d0345768677f3aecb6b5d72",
       "version_major": 2,
       "version_minor": 0
      },
      "text/plain": [
       "model.safetensors:   0%|          | 0.00/436M [00:00<?, ?B/s]"
      ]
     },
     "metadata": {},
     "output_type": "display_data"
    },
    {
     "name": "stderr",
     "output_type": "stream",
     "text": [
      "Some weights of the model checkpoint at bert-base-cased were not used when initializing BertForMaskedLM: ['bert.pooler.dense.bias', 'bert.pooler.dense.weight', 'cls.seq_relationship.bias', 'cls.seq_relationship.weight']\n",
      "- This IS expected if you are initializing BertForMaskedLM from the checkpoint of a model trained on another task or with another architecture (e.g. initializing a BertForSequenceClassification model from a BertForPreTraining model).\n",
      "- This IS NOT expected if you are initializing BertForMaskedLM from the checkpoint of a model that you expect to be exactly identical (initializing a BertForSequenceClassification model from a BertForSequenceClassification model).\n"
     ]
    }
   ],
   "source": [
    "model_url = \"bert-base-cased\"\n",
    "tokenizer = AutoTokenizer.from_pretrained(model_url)\n",
    "model = AutoModelForMaskedLM.from_pretrained(model_url)"
   ]
  },
  {
   "cell_type": "code",
   "execution_count": 57,
   "metadata": {},
   "outputs": [],
   "source": [
    "from torch.utils.data import DataLoader\n",
    "# Custom NaijaDataset class\n",
    "class NaijaDataset(Dataset):\n",
    "    def __init__(self, dataframe, tokenizer, max_length=512):\n",
    "        self.texts = dataframe['text'].tolist() \n",
    "        self.labels = dataframe['label'].tolist()  # List of labels (integers)\n",
    "        self.tokenizer = tokenizer\n",
    "        self.max_length = max_length\n",
    "\n",
    "    def __len__(self):\n",
    "        return len(self.texts)\n",
    "\n",
    "    def __getitem__(self, idx):\n",
    "        text = self.texts[idx]\n",
    "        label = self.labels[idx]\n",
    "\n",
    "        # Tokenize the text\n",
    "        encoding = self.tokenizer.encode_plus(\n",
    "            text,\n",
    "            add_special_tokens=True,\n",
    "            max_length=self.max_length,\n",
    "            padding='max_length',\n",
    "            truncation=True,\n",
    "            return_tensors='pt'\n",
    "        )\n",
    "\n",
    "        input_ids = encoding['input_ids'].flatten()\n",
    "        attention_mask = encoding['attention_mask'].flatten()\n",
    "\n",
    "        return {\n",
    "            'input_ids': input_ids,\n",
    "            'attention_mask': attention_mask,\n",
    "            'labels': torch.tensor(label, dtype=torch.long)\n",
    "        }\n",
    "\n",
    "# Create datasets for training and evaluation\n",
    "train_dataset = NaijaDataset(train_data, tokenizer)\n",
    "test_dataset = NaijaDataset(test_data, tokenizer)\n",
    "\n",
    "# Create DataLoader for batching\n",
    "train_loader = DataLoader(train_dataset, batch_size=32, shuffle=True)\n",
    "test_loader = DataLoader(test_dataset, batch_size=32)"
   ]
  },
  {
   "cell_type": "code",
   "execution_count": 59,
   "metadata": {},
   "outputs": [
    {
     "name": "stderr",
     "output_type": "stream",
     "text": [
      "Some weights of BertForSequenceClassification were not initialized from the model checkpoint at bert-base-cased and are newly initialized: ['classifier.bias', 'classifier.weight']\n",
      "You should probably TRAIN this model on a down-stream task to be able to use it for predictions and inference.\n"
     ]
    }
   ],
   "source": [
    "model = AutoModelForSequenceClassification.from_pretrained(\n",
    "    model_url, num_labels = data['label'].nunique())"
   ]
  },
  {
   "cell_type": "code",
   "execution_count": 60,
   "metadata": {},
   "outputs": [
    {
     "name": "stderr",
     "output_type": "stream",
     "text": [
      "/home/zeus/miniconda3/envs/cloudspace/lib/python3.10/site-packages/transformers/optimization.py:640: FutureWarning: This implementation of AdamW is deprecated and will be removed in a future version. Use the PyTorch implementation torch.optim.AdamW instead, or set `no_deprecation_warning=True` to disable this warning\n",
      "  warnings.warn(\n"
     ]
    },
    {
     "name": "stdout",
     "output_type": "stream",
     "text": [
      "\n",
      "Epoch 1/3\n"
     ]
    },
    {
     "name": "stderr",
     "output_type": "stream",
     "text": [
      "Training: 100%|██████████| 379/379 [05:07<00:00,  1.23it/s]\n"
     ]
    },
    {
     "name": "stdout",
     "output_type": "stream",
     "text": [
      "Train Loss: 1.6946\n"
     ]
    },
    {
     "name": "stderr",
     "output_type": "stream",
     "text": [
      "Evaluating: 100%|██████████| 127/127 [00:40<00:00,  3.12it/s]\n"
     ]
    },
    {
     "name": "stdout",
     "output_type": "stream",
     "text": [
      "Eval Loss: 1.2630\n",
      "\n",
      "Epoch 2/3\n"
     ]
    },
    {
     "name": "stderr",
     "output_type": "stream",
     "text": [
      "Training: 100%|██████████| 379/379 [05:06<00:00,  1.24it/s]\n"
     ]
    },
    {
     "name": "stdout",
     "output_type": "stream",
     "text": [
      "Train Loss: 1.0780\n"
     ]
    },
    {
     "name": "stderr",
     "output_type": "stream",
     "text": [
      "Evaluating: 100%|██████████| 127/127 [00:39<00:00,  3.19it/s]\n"
     ]
    },
    {
     "name": "stdout",
     "output_type": "stream",
     "text": [
      "Eval Loss: 1.2455\n",
      "\n",
      "Epoch 3/3\n"
     ]
    },
    {
     "name": "stderr",
     "output_type": "stream",
     "text": [
      "Training: 100%|██████████| 379/379 [05:06<00:00,  1.24it/s]\n"
     ]
    },
    {
     "name": "stdout",
     "output_type": "stream",
     "text": [
      "Train Loss: 0.8721\n"
     ]
    },
    {
     "name": "stderr",
     "output_type": "stream",
     "text": [
      "Evaluating: 100%|██████████| 127/127 [00:40<00:00,  3.14it/s]"
     ]
    },
    {
     "name": "stdout",
     "output_type": "stream",
     "text": [
      "Eval Loss: 1.2638\n"
     ]
    },
    {
     "name": "stderr",
     "output_type": "stream",
     "text": [
      "\n"
     ]
    }
   ],
   "source": [
    "from transformers import AdamW\n",
    "from tqdm import tqdm\n",
    "\n",
    "# Setup optimizer and loss function\n",
    "optimizer = AdamW(model.parameters(), lr=2e-5)\n",
    "\n",
    "# Move model to GPU if available\n",
    "device = torch.device(\"cuda\" if torch.cuda.is_available() else \"cpu\")\n",
    "model.to(device)\n",
    "\n",
    "# Store loss values for plotting\n",
    "train_losses = []\n",
    "eval_losses = []\n",
    "\n",
    "# Store predictions and true labels for classification report\n",
    "all_preds = []\n",
    "all_labels = []\n",
    "\n",
    "# Training loop\n",
    "num_epochs = 3\n",
    "for epoch in range(num_epochs):\n",
    "    print(f\"\\nEpoch {epoch+1}/{num_epochs}\")\n",
    "\n",
    "    # Training loop\n",
    "    model.train()\n",
    "    running_loss = 0.0\n",
    "\n",
    "    for batch in tqdm(train_loader, desc=\"Training\"):\n",
    "        input_ids = batch['input_ids'].to(device)\n",
    "        attention_mask = batch['attention_mask'].to(device)\n",
    "        labels = batch['labels'].to(device)\n",
    "\n",
    "        # Forward pass\n",
    "        optimizer.zero_grad()\n",
    "        outputs = model(input_ids, attention_mask=attention_mask, labels=labels)\n",
    "        loss = outputs.loss\n",
    "        logits = outputs.logits\n",
    "\n",
    "        # Backward pass and optimization\n",
    "        loss.backward()\n",
    "        optimizer.step()\n",
    "\n",
    "        running_loss += loss.item()\n",
    "\n",
    "        _, predicted = torch.max(logits, dim=1)\n",
    "\n",
    "\n",
    "    train_loss = running_loss / len(train_loader)\n",
    "    train_losses.append(train_loss)\n",
    "    print(f\"Train Loss: {train_loss:.4f}\")\n",
    "\n",
    "    # Evaluation loop\n",
    "    model.eval()\n",
    "    running_loss = 0.0\n",
    "\n",
    "    # Reset predictions and labels for the eval phase\n",
    "    epoch_preds = []\n",
    "    epoch_labels = []\n",
    "\n",
    "    with torch.no_grad():\n",
    "        for batch in tqdm(test_loader, desc=\"Evaluating\"):\n",
    "            input_ids = batch['input_ids'].to(device)\n",
    "            attention_mask = batch['attention_mask'].to(device)\n",
    "            labels = batch['labels'].to(device)\n",
    "\n",
    "            # Forward pass\n",
    "            outputs = model(input_ids, attention_mask=attention_mask, labels=labels)\n",
    "            loss = outputs.loss\n",
    "            logits = outputs.logits\n",
    "\n",
    "            running_loss += loss.item()\n",
    "\n",
    "            # Collect predictions and labels for classification report and confusion matrix\n",
    "            _, predicted = torch.max(logits, dim=1)\n",
    "            epoch_preds.extend(predicted.cpu().numpy())\n",
    "            epoch_labels.extend(labels.cpu().numpy())\n",
    "\n",
    "\n",
    "    eval_loss = running_loss / len(test_loader)\n",
    "    eval_losses.append(eval_loss)\n",
    "    print(f\"Eval Loss: {eval_loss:.4f}\")\n",
    "\n",
    "    # Store predictions and labels for the entire evaluation phase\n",
    "    all_preds.extend(epoch_preds)\n",
    "    all_labels.extend(epoch_labels)"
   ]
  },
  {
   "cell_type": "code",
   "execution_count": 62,
   "metadata": {},
   "outputs": [
    {
     "name": "stdout",
     "output_type": "stream",
     "text": [
      "\n",
      "Classification Report:\n",
      "              precision    recall  f1-score   support\n",
      "\n",
      "           0       0.45      0.56      0.50       606\n",
      "           1       0.88      0.84      0.86       606\n",
      "           2       0.49      0.40      0.44       606\n",
      "           3       0.68      0.64      0.66       606\n",
      "           4       0.72      0.68      0.70       606\n",
      "           5       0.57      0.44      0.50       606\n",
      "           6       0.75      0.81      0.78       606\n",
      "           7       0.74      0.81      0.77       606\n",
      "           8       0.59      0.64      0.61       606\n",
      "           9       0.72      0.71      0.72       606\n",
      "          10       0.89      0.80      0.84       606\n",
      "          11       0.82      0.82      0.82       606\n",
      "          12       0.49      0.62      0.55       606\n",
      "          13       0.53      0.77      0.63       606\n",
      "          14       0.63      0.77      0.69       606\n",
      "          15       0.57      0.53      0.55       606\n",
      "          16       0.82      0.96      0.88       606\n",
      "          17       0.79      0.80      0.79       606\n",
      "          18       0.63      0.66      0.65       606\n",
      "          19       0.13      0.01      0.02       606\n",
      "\n",
      "    accuracy                           0.66     12120\n",
      "   macro avg       0.64      0.66      0.65     12120\n",
      "weighted avg       0.64      0.66      0.65     12120\n",
      "\n"
     ]
    }
   ],
   "source": [
    "# Generate classification report and confusion matrix\n",
    "from sklearn.metrics import classification_report, confusion_matrix\n",
    "\n",
    "print(\"\\nClassification Report:\")\n",
    "print(classification_report(all_labels, all_preds))"
   ]
  },
  {
   "cell_type": "code",
   "execution_count": 68,
   "metadata": {},
   "outputs": [
    {
     "data": {
      "image/png": "[encoded data removed]",
      "text/plain": [
       "<Figure size 1000x600 with 1 Axes>"
      ]
     },
     "metadata": {},
     "output_type": "display_data"
    }
   ],
   "source": [
    "# Plotting the loss curves\n",
    "plt.figure(figsize=(10, 6))\n",
    "plt.plot(range(1, num_epochs + 1), train_losses, label=\"Train Loss\")\n",
    "plt.plot(range(1, num_epochs + 1), eval_losses, label=\"Eval Loss\")\n",
    "plt.xlabel(\"Epochs\")\n",
    "plt.ylabel(\"Loss\")\n",
    "plt.title(\"Loss Curve\")\n",
    "plt.legend()\n",
    "plt.show()"
   ]
  },
  {
   "cell_type": "code",
   "execution_count": 69,
   "metadata": {},
   "outputs": [],
   "source": [
    "torch.save(model.state_dict(), \"model_v1.pth\")"
   ]
  },
  {
   "cell_type": "code",
   "execution_count": null,
   "metadata": {},
   "outputs": [],
   "source": []
  }
 ],
 "metadata": {
  "language_info": {
   "name": "python"
  }
 },
 "nbformat": 4,
 "nbformat_minor": 2
}
